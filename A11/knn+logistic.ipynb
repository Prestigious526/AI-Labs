{
 "cells": [
  {
   "cell_type": "code",
   "execution_count": 1,
   "metadata": {},
   "outputs": [],
   "source": [
    "import numpy as np\n",
    "import pandas as pd\n",
    "import matplotlib.pyplot as plt"
   ]
  },
  {
   "cell_type": "code",
   "execution_count": 2,
   "metadata": {},
   "outputs": [],
   "source": [
    "breast_cancer=pd.read_csv('breast_cancer.csv')\n",
    "breast_cancer['diagnosis']=breast_cancer['diagnosis'].map({'M':1,'B':0})\n",
    "breast_cancer=breast_cancer.drop(['id'],axis=1)"
   ]
  },
  {
   "cell_type": "code",
   "execution_count": 3,
   "metadata": {},
   "outputs": [],
   "source": [
    "def train_test_split(X, y, test_size=0.2, random_state=42):\n",
    "    np.random.seed(random_state)\n",
    "    indices = np.arange(X.shape[0])\n",
    "    np.random.shuffle(indices)\n",
    "    split_idx = int(X.shape[0] * (1 - test_size))\n",
    "    X_train, X_test = X[indices[:split_idx]], X[indices[split_idx:]]\n",
    "    y_train, y_test = y[indices[:split_idx]], y[indices[split_idx:]]\n",
    "    return X_train, X_test, y_train, y_test\n",
    "\n"
   ]
  },
  {
   "cell_type": "code",
   "execution_count": 4,
   "metadata": {},
   "outputs": [],
   "source": [
    "X=breast_cancer.iloc[:, 1:].values\n",
    "y=breast_cancer['diagnosis'].values\n",
    "X_train,X_test,y_train,y_test=train_test_split(X,y,test_size=0.2,random_state=42)"
   ]
  },
  {
   "cell_type": "code",
   "execution_count": 5,
   "metadata": {},
   "outputs": [],
   "source": [
    "def sigmoid(z):\n",
    "    return 1/(1+np.exp(-z))"
   ]
  },
  {
   "cell_type": "code",
   "execution_count": 6,
   "metadata": {},
   "outputs": [],
   "source": [
    "def initialize_weights(nfeatures): \n",
    "    weights=np.zeros(nfeatures)\n",
    "    bias=0\n",
    "    return weights, bias"
   ]
  },
  {
   "cell_type": "code",
   "execution_count": 7,
   "metadata": {},
   "outputs": [],
   "source": [
    "def compute_cost(X, y,weights,bias):\n",
    "    m=X.shape[0]\n",
    "    z=X.dot(weights)+bias\n",
    "    predictions=sigmoid(z)\n",
    "    cost=-(1/m)*np.sum(y*np.log(predictions)+(1-y)*np.log(1-predictions))\n",
    "    return cost"
   ]
  },
  {
   "cell_type": "code",
   "execution_count": 8,
   "metadata": {},
   "outputs": [],
   "source": [
    "def optimize_weights(X,y,weights,bias,learning_rate,num_iterations):\n",
    "    m=X.shape[0]\n",
    "    for i in range (num_iterations):\n",
    "        z=X.dot(weights)+bias\n",
    "        predictions=sigmoid(z)\n",
    "        dw=(1/m)*np.dot(X.T,(predictions-y))\n",
    "        db=(1/m)*np.sum(predictions-y)\n",
    "        weights-=learning_rate*dw\n",
    "        bias-=learning_rate*db\n",
    "    return weights, bias"
   ]
  },
  {
   "cell_type": "code",
   "execution_count": 9,
   "metadata": {},
   "outputs": [],
   "source": [
    "def train_logistic_regression(X_train,y_train,learning_rate,num_iterations):\n",
    "    n_features=X_train.shape[1]\n",
    "    weights, bias=initialize_weights(n_features)\n",
    "    weights, bias=optimize_weights(X_train,y_train,weights,bias,learning_rate,num_iterations)\n",
    "    return weights, bias\n",
    "\n"
   ]
  },
  {
   "cell_type": "code",
   "execution_count": 10,
   "metadata": {},
   "outputs": [],
   "source": [
    "def predict_logistic_regression(X,weights,bias):\n",
    "    z=np.dot(X, weights)+bias\n",
    "    predictions=sigmoid(z)\n",
    "    return [1 if p > 0.5 else 0 for p in predictions]"
   ]
  },
  {
   "cell_type": "code",
   "execution_count": 11,
   "metadata": {},
   "outputs": [],
   "source": [
    "weights, bias=train_logistic_regression(X_train, y_train, learning_rate=0.01, num_iterations=1000)\n",
    "y_pred_train=predict_logistic_regression(X_train, weights, bias)\n",
    "y_pred_test=predict_logistic_regression(X_test, weights, bias)\n"
   ]
  },
  {
   "cell_type": "code",
   "execution_count": 12,
   "metadata": {},
   "outputs": [
    {
     "name": "stdout",
     "output_type": "stream",
     "text": [
      "Train Accuracy: 0.64\n",
      "Test Accuracy: 0.59\n"
     ]
    }
   ],
   "source": [
    "train_accuracy=np.mean(y_pred_train==y_train)\n",
    "test_accuracy=np.mean(y_pred_test==y_test)\n",
    "print(f\"Train Accuracy: {train_accuracy:.2f}\")\n",
    "print(f\"Test Accuracy: {test_accuracy:.2f}\")"
   ]
  },
  {
   "cell_type": "code",
   "execution_count": null,
   "metadata": {},
   "outputs": [],
   "source": []
  },
  {
   "cell_type": "code",
   "execution_count": 13,
   "metadata": {},
   "outputs": [],
   "source": [
    "def euclidean_distance(p1, p2):\n",
    "    return np.sqrt(np.sum((p1-p2)**2))\n"
   ]
  },
  {
   "cell_type": "code",
   "execution_count": 14,
   "metadata": {},
   "outputs": [],
   "source": [
    "def get_neighbors(X_train, y_train, test_instance, k):\n",
    "    distances=[(euclidean_distance(test_instance, X_train[i]), y_train[i]) for i in range(len(X_train))]\n",
    "    distances.sort(key=lambda x: x[0])\n",
    "    neighbors=distances[:k]\n",
    "    return [label for _, label in neighbors]"
   ]
  },
  {
   "cell_type": "code",
   "execution_count": 15,
   "metadata": {},
   "outputs": [],
   "source": [
    "from collections import Counter"
   ]
  },
  {
   "cell_type": "code",
   "execution_count": 16,
   "metadata": {},
   "outputs": [],
   "source": [
    "def predict_kNN(X_train, y_train, X_test, k):\n",
    "    predictions=[]\n",
    "    for test_instance in X_test:\n",
    "        neighbors=get_neighbors(X_train, y_train, test_instance, k)\n",
    "        majority_vote=Counter(neighbors).most_common(1)[0][0]\n",
    "        predictions.append(majority_vote)\n",
    "    return predictions"
   ]
  },
  {
   "cell_type": "code",
   "execution_count": 24,
   "metadata": {},
   "outputs": [
    {
     "name": "stdout",
     "output_type": "stream",
     "text": [
      "Train Accuracy (kNN): 0.64, Test Accuracy (kNN): 0.59\n"
     ]
    }
   ],
   "source": [
    "k=1\n",
    "pm_y_pred_train=predict_kNN(X_train, y_train, X_train, k)\n",
    "pm_y_pred_test=predict_kNN(X_train, y_train, X_test, k)\n",
    "\n",
    "pm_train_accuracy=np.mean(pm_y_pred_train==y_train)\n",
    "pm_test_accuracy=np.mean(pm_y_pred_test==y_test)\n",
    "print(f\"Train Accuracy (kNN): {pm_train_accuracy:.2f}, Test Accuracy (kNN): {pm_test_accuracy:.2f}\")"
   ]
  }
 ],
 "metadata": {
  "kernelspec": {
   "display_name": "Python 3",
   "language": "python",
   "name": "python3"
  },
  "language_info": {
   "codemirror_mode": {
    "name": "ipython",
    "version": 3
   },
   "file_extension": ".py",
   "mimetype": "text/x-python",
   "name": "python",
   "nbconvert_exporter": "python",
   "pygments_lexer": "ipython3",
   "version": "3.11.9"
  }
 },
 "nbformat": 4,
 "nbformat_minor": 2
}
