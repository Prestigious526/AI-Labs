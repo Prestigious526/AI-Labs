{
 "cells": [
  {
   "cell_type": "code",
   "execution_count": 22,
   "metadata": {},
   "outputs": [],
   "source": [
    "pm_train_data=[\n",
    "    [100,0,1],\n",
    "    [0,100,0],\n",
    "    [15,90,0],\n",
    "    [85,20,1]\n",
    "]\n",
    "\n",
    "pm_val_data=[\n",
    "    [10,95,0],\n",
    "    [85,15,1]\n",
    "]\n",
    "\n",
    "pm_test_data=[\n",
    "    [6,70],\n",
    "    [93,23],\n",
    "    [50,50]\n",
    "]"
   ]
  },
  {
   "cell_type": "code",
   "execution_count": 23,
   "metadata": {},
   "outputs": [],
   "source": [
    "def pm_distance(p1,p2):\n",
    "    return ((p1[0]-p2[0])**2+(p1[1]-p2[1])**2)**0.5"
   ]
  },
  {
   "cell_type": "code",
   "execution_count": 63,
   "metadata": {},
   "outputs": [
    {
     "name": "stdout",
     "output_type": "stream",
     "text": [
      "[[130, 1, 0, 0], [11, 0, 0, 1], [7, 0, 0, 2], [106, 1, 0, 3], [21, 1, 1, 0], [120, 0, 1, 1], [102, 0, 1, 2], [5, 1, 1, 3]]\n"
     ]
    }
   ],
   "source": [
    "table1=[]\n",
    "pm_labels=[row[2] for row in pm_train_data]\n",
    "def pm_table1_(pm_train_data,pm_val_data):\n",
    "    for i in range(0,2):\n",
    "        for j in range(0,4):\n",
    "            table1.append([int(pm_distance(pm_val_data[i],pm_train_data[j])),pm_labels[j],i,j])\n",
    "    return table1\n",
    "\n",
    "pm_table1=pm_table1_(pm_train_data,pm_val_data)\n",
    "print(pm_table1)\n"
   ]
  },
  {
   "cell_type": "code",
   "execution_count": 64,
   "metadata": {},
   "outputs": [
    {
     "name": "stdout",
     "output_type": "stream",
     "text": [
      "[[7, 0, 0, 2], [11, 0, 0, 1], [106, 1, 0, 3], [130, 1, 0, 0]]\n",
      "[[5, 1, 1, 3], [21, 1, 1, 0], [102, 0, 1, 2], [120, 0, 1, 1]]\n"
     ]
    }
   ],
   "source": [
    "pm_table2_1=sorted(pm_table1[0:4])\n",
    "pm_table2_2=sorted(pm_table1[4:8])\n",
    "print(pm_table2_1)\n",
    "print(pm_table2_2)"
   ]
  },
  {
   "cell_type": "code",
   "execution_count": 65,
   "metadata": {},
   "outputs": [],
   "source": [
    "def pm_predict(pm_distance, k):\n",
    "    pm_pred=[]\n",
    "    for d in pm_distance:\n",
    "        pm_neighbor=d[0:k]\n",
    "        for c in pm_neighbor:\n",
    "            pm_class=[c[1]]\n",
    "        predicted_class=max(set(pm_class), key=pm_class.count)  \n",
    "        pm_pred.append(predicted_class)\n",
    "    return pm_pred"
   ]
  },
  {
   "cell_type": "code",
   "execution_count": 78,
   "metadata": {},
   "outputs": [
    {
     "name": "stdout",
     "output_type": "stream",
     "text": [
      "[0, 1]\n"
     ]
    }
   ],
   "source": [
    "val_class=[v[2] for v in pm_val_data]\n",
    "print(val_class)"
   ]
  },
  {
   "cell_type": "code",
   "execution_count": 80,
   "metadata": {},
   "outputs": [
    {
     "name": "stdout",
     "output_type": "stream",
     "text": [
      "1\n",
      "0\n",
      "50.0\n"
     ]
    }
   ],
   "source": [
    "#k=1\n",
    "class_1_k1=[x[1] for x in pm_table2_1]\n",
    "print(class_1_k1[3])\n",
    "\n",
    "class_2_k1=[y[1] for y in pm_table2_2]\n",
    "print(class_2_k1[3])\n",
    "\n",
    "is_correct_k1=0\n",
    "if(class_1_k1[3]==val_class[0]):\n",
    "    is_correct_k1+=1\n",
    "if(class_2_k1[3]==val_class[0]):\n",
    "    is_correct_k1+=1\n",
    "\n",
    "pm_acc_k1=is_correct_k1/2\n",
    "print(pm_acc_k1*100)"
   ]
  },
  {
   "cell_type": "code",
   "execution_count": 81,
   "metadata": {},
   "outputs": [],
   "source": [
    "\n",
    "from collections import Counter"
   ]
  },
  {
   "cell_type": "code",
   "execution_count": 83,
   "metadata": {},
   "outputs": [
    {
     "name": "stdout",
     "output_type": "stream",
     "text": [
      "1\n",
      "0\n",
      "50.0\n"
     ]
    }
   ],
   "source": [
    "#k=3\n",
    "class_1_k3=[0,1,1]\n",
    "count_1= Counter(class_1_k3)\n",
    "most_common_1=max(count_1, key=count_1.get)\n",
    "print(most_common_1)\n",
    "\n",
    "class_2_k3=[1,0,0]\n",
    "count_2= Counter(class_2_k3)\n",
    "most_common_2=max(count_2, key=count_2.get)\n",
    "print(most_common_2)\n",
    "\n",
    "is_correct_k3=0\n",
    "if(most_common_1==val_class[1]):\n",
    "    is_correct_k3+=1\n",
    "if(most_common_2==val_class[1]):\n",
    "    is_correct_k3+=1\n",
    "\n",
    "pm_acc_k3=is_correct_k3/2\n",
    "print(pm_acc_k3*100)"
   ]
  },
  {
   "cell_type": "code",
   "execution_count": 84,
   "metadata": {},
   "outputs": [],
   "source": [
    "import numpy as np\n",
    "from sklearn import datasets\n",
    "from sklearn.model_selection import train_test_split\n",
    "from sklearn.metrics import accuracy_score\n",
    "from collections import Counter"
   ]
  },
  {
   "cell_type": "code",
   "execution_count": 88,
   "metadata": {},
   "outputs": [],
   "source": [
    "pm_iris=datasets.load_iris()\n",
    "pm_x=pm_iris.data\n",
    "pm_y=pm_iris.target"
   ]
  },
  {
   "cell_type": "code",
   "execution_count": 90,
   "metadata": {},
   "outputs": [],
   "source": [
    "x_train_val, x_test, y_train_val, y_test=train_test_split(pm_x, pm_y, test_size=0.3)\n",
    "x_train, x_val, y_train, y_val=train_test_split(x_train_val, y_train_val, test_size=0.3)"
   ]
  },
  {
   "cell_type": "code",
   "execution_count": 91,
   "metadata": {},
   "outputs": [],
   "source": [
    "def euclidean_distance(x1, x2):\n",
    "    return (np.sum((x1 - x2)**2))**0.5"
   ]
  },
  {
   "cell_type": "code",
   "execution_count": 92,
   "metadata": {},
   "outputs": [],
   "source": [
    "\n",
    "def knn_predict(x_train, y_train, x_test, k):\n",
    "    predictions=[]\n",
    "    for pm_point in x_test:\n",
    "        distances=[]\n",
    "        for i, pm_train_point in enumerate(x_train):\n",
    "            pm_distance=euclidean_distance(pm_point, pm_train_point)\n",
    "            distances.append((pm_distance, y_train[i]))\n",
    "\n",
    "        distances.sort(key=lambda x: x[0])\n",
    "        neighbors=distances[:k]\n",
    "        \n",
    "        neighbor_classes=[neighbor[1] for neighbor in neighbors]\n",
    "        \n",
    "        pm_most_common=Counter(neighbor_classes).most_common(1)[0][0]\n",
    "        predictions.append(pm_most_common)\n",
    "    \n",
    "    return np.array(predictions)"
   ]
  },
  {
   "cell_type": "code",
   "execution_count": 98,
   "metadata": {},
   "outputs": [
    {
     "name": "stdout",
     "output_type": "stream",
     "text": [
      "1\n",
      "0.875\n"
     ]
    }
   ],
   "source": [
    "pm_best_k=0\n",
    "pm_best_accuracy=0\n",
    "\n",
    "for k in range(1, 10):\n",
    "    y_val_pred=knn_predict(x_train, y_train, x_val, k)\n",
    "    accuracy=accuracy_score(y_val, y_val_pred)\n",
    "    \n",
    "    if accuracy>best_accuracy:\n",
    "        best_k=k\n",
    "        best_accuracy=accuracy\n",
    "\n",
    "print(pm_best_k)\n",
    "print(pm_best_accuracy)"
   ]
  },
  {
   "cell_type": "code",
   "execution_count": 101,
   "metadata": {},
   "outputs": [
    {
     "name": "stdout",
     "output_type": "stream",
     "text": [
      "[0 1 2 0 1 2 2 0 2 2 1 0 0 1 2 2 1 1 2 1 1 2 1 0 1 1 2 2 2 2 1 0 0 0 0 0 1\n",
      " 0 0 1 0 2 1 1 1]\n",
      "1.0\n"
     ]
    }
   ],
   "source": [
    "y_test_pred=knn_predict(y_train, y_train, y_test, best_k)\n",
    "test_accuracy=accuracy_score(y_test, y_test_pred)\n",
    "print(y_test_pred)\n",
    "print(test_accuracy)"
   ]
  }
 ],
 "metadata": {
  "kernelspec": {
   "display_name": "Python 3",
   "language": "python",
   "name": "python3"
  },
  "language_info": {
   "codemirror_mode": {
    "name": "ipython",
    "version": 3
   },
   "file_extension": ".py",
   "mimetype": "text/x-python",
   "name": "python",
   "nbconvert_exporter": "python",
   "pygments_lexer": "ipython3",
   "version": "3.11.9"
  },
  "orig_nbformat": 4
 },
 "nbformat": 4,
 "nbformat_minor": 2
}
